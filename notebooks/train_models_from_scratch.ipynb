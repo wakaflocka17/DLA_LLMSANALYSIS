{
  "cells": [
    {
      "cell_type": "markdown",
      "metadata": {
        "id": "E921PGFJz1ws"
      },
      "source": [
        "# **LLMs Models - Training and Evaluation**"
      ]
    },
    {
      "cell_type": "markdown",
      "metadata": {
        "id": "N2RUd3Gwz7h1"
      },
      "source": [
        "## 1. **SETUP**"
      ]
    },
    {
      "cell_type": "markdown",
      "metadata": {
        "id": "8ibYBusBWIhl"
      },
      "source": [
        "### We check the GPU status"
      ]
    },
    {
      "cell_type": "code",
      "execution_count": null,
      "metadata": {
        "colab": {
          "base_uri": "https://localhost:8080/"
        },
        "id": "3I-CSvjaWHTs",
        "outputId": "15a98832-1cc3-48f0-bfd2-49930479ff75"
      },
      "outputs": [],
      "source": [
        "!nvidia-smi"
      ]
    },
    {
      "cell_type": "markdown",
      "metadata": {
        "id": "FBbD9TyM0KBN"
      },
      "source": [
        "### Now we are going to verify that there are no other past instances of our project within the Colab directory."
      ]
    },
    {
      "cell_type": "code",
      "execution_count": null,
      "metadata": {
        "colab": {
          "base_uri": "https://localhost:8080/"
        },
        "id": "bYqz_PwqmA-R",
        "outputId": "e2c1d839-5f47-4872-c2ea-81846da2167e"
      },
      "outputs": [],
      "source": [
        "%ls"
      ]
    },
    {
      "cell_type": "markdown",
      "metadata": {
        "id": "uz_PWoPE0Nu_"
      },
      "source": [
        "### We check that the directory is not already there, and pull the files needed for training and evaluation from GitHub."
      ]
    },
    {
      "cell_type": "code",
      "execution_count": null,
      "metadata": {
        "colab": {
          "base_uri": "https://localhost:8080/"
        },
        "id": "YzHa7V6puo2L",
        "outputId": "b0e0fb4e-3266-4ab7-b76f-88ce423c778d"
      },
      "outputs": [],
      "source": [
        "!test -d DLA_LLMSANALYSIS && rm -rf DLA_LLMSANALYSIS\n",
        "!git clone https://github.com/wakaflocka17/DLA_LLMSANALYSIS.git\n",
        "%cd DLA_LLMSANALYSIS"
      ]
    },
    {
      "cell_type": "markdown",
      "metadata": {
        "id": "cmCndrnf0c5_"
      },
      "source": [
        "### We are now going to create our virtual environment using venv."
      ]
    },
    {
      "cell_type": "code",
      "execution_count": null,
      "metadata": {
        "colab": {
          "base_uri": "https://localhost:8080/"
        },
        "id": "4QK27pExqgsn",
        "outputId": "f26567df-2dcb-4cce-db8c-432a55af6740"
      },
      "outputs": [],
      "source": [
        "!pip install virtualenv\n",
        "!python -m virtualenv venv\n",
        "!source venv/bin/activate"
      ]
    },
    {
      "cell_type": "markdown",
      "metadata": {
        "id": "giBowUky0ewy"
      },
      "source": [
        "### Now we are going to install all the libraries defined within our requirements.txt file."
      ]
    },
    {
      "cell_type": "code",
      "execution_count": null,
      "metadata": {
        "colab": {
          "base_uri": "https://localhost:8080/"
        },
        "id": "MJW6X7NNqnv8",
        "outputId": "05c6c345-e5b4-4811-bdec-3fcc2459a13c"
      },
      "outputs": [],
      "source": [
        "!venv/bin/pip install -r requirements.txt"
      ]
    },
    {
      "cell_type": "markdown",
      "metadata": {
        "id": "Kpm4eSmh0iGU"
      },
      "source": [
        "## 2. **HUGGINGFACE LOGIN USING TOKEN ACCOUNT**"
      ]
    },
    {
      "cell_type": "code",
      "execution_count": null,
      "metadata": {
        "colab": {
          "base_uri": "https://localhost:8080/",
          "height": 17,
          "referenced_widgets": [
            "486570958be54bffbbd4c78b7af876b8",
            "a866c168021242c38b2179d6479f43f7",
            "6d043ef893114fb9a490759f3e5747df",
            "0bfab857f2d848c68829c93b1d9848bf",
            "583b175b871f4d57a65abb6d768efdcb",
            "a8d34e608a7f4fce9a48a3ebbbd54bcc",
            "59220456973f4921ad674326033ccacd",
            "2f4cd9d5920946448d22e0a0b4b2cb68",
            "adaf34cf19f44622a0ad2f830b83f481",
            "72301ed6b97f42ed8db78b431f77757b",
            "a27ab2715a1349fa9e8e8cc197425f22",
            "3a91c1c825b84cbc800cac7f3dc68ce1",
            "6f711c1b111842c2a23caea512df0738",
            "2758d76e240b45f2a21e45186ebba5f2",
            "68cd9951e169457489b6b25bcf99de49",
            "7be167703cd14338ab90898b7363893e",
            "11db7eb028c0421abbf24d03fd6b064c",
            "e1f6cfe894fe4002948b616b05ffec3a",
            "7fe779a4eea341c88d8d03123b683f9c",
            "43f884b1d57b4905a1ab9507761391ba"
          ]
        },
        "id": "wx4mbuhRiY5n",
        "outputId": "c055b301-fd41-47ac-cbc0-6e1a1786633f"
      },
      "outputs": [],
      "source": [
        "from huggingface_hub import notebook_login\n",
        "\n",
        "notebook_login()"
      ]
    },
    {
      "cell_type": "markdown",
      "metadata": {
        "id": "ZbhShR0F0nFz"
      },
      "source": [
        "## 3. **TRAINING AND EVALUATION MODELS**"
      ]
    },
    {
      "cell_type": "markdown",
      "metadata": {
        "id": "edhMPNTr03UX"
      },
      "source": [
        "### 3.1 **Train & Validation encoder-only**: google-bert/bert-base-uncased"
      ]
    },
    {
      "cell_type": "code",
      "execution_count": null,
      "metadata": {
        "colab": {
          "base_uri": "https://localhost:8080/"
        },
        "id": "3P3tkFTt9xo3",
        "outputId": "2941e63d-f7bc-46f5-aa74-9c480c248fb5"
      },
      "outputs": [],
      "source": [
        "!venv/bin/python main.py --model_config_key bert_base_uncased --mode train"
      ]
    },
    {
      "cell_type": "markdown",
      "metadata": {
        "id": "DtWwSsYF1WKC"
      },
      "source": [
        "### 3.1 **Evaluation encoder-only pre-trained**: google-bert/bert-base-uncased"
      ]
    },
    {
      "cell_type": "code",
      "execution_count": null,
      "metadata": {
        "colab": {
          "base_uri": "https://localhost:8080/"
        },
        "id": "vRwSlr3VaSS3",
        "outputId": "0b180723-f251-49b2-ae9e-e93a147d2ff2"
      },
      "outputs": [],
      "source": [
        "!venv/bin/python main.py --model_config_key bert_base_uncased --mode eval --eval_type pretrained --output_json_path \"results/evaluation/pretrained/bert-base-uncased-imdb.json\""
      ]
    },
    {
      "cell_type": "markdown",
      "metadata": {
        "id": "U6tNutpu1dr3"
      },
      "source": [
        "### 3.1 **Evaluation encoder-only fine-tuned**: google-bert/bert-base-uncased"
      ]
    },
    {
      "cell_type": "code",
      "execution_count": null,
      "metadata": {
        "colab": {
          "base_uri": "https://localhost:8080/"
        },
        "id": "f9bRmHPY_9kW",
        "outputId": "ac226508-c49b-4bac-deeb-97f852e43b36"
      },
      "outputs": [],
      "source": [
        "!venv/bin/python main.py --model_config_key bert_base_uncased --mode eval --eval_type fine_tuned --output_json_path \"results/evaluation/finetuned/bert-base-uncased-imdb.json\""
      ]
    },
    {
      "cell_type": "markdown",
      "metadata": {
        "id": "WL6jXaBN14N_"
      },
      "source": [
        "### 3.2 **Train & Validation encoder-decoder**: facebook/bart-base"
      ]
    },
    {
      "cell_type": "code",
      "execution_count": null,
      "metadata": {
        "colab": {
          "base_uri": "https://localhost:8080/"
        },
        "id": "BLO4f2go2Chw",
        "outputId": "c9051231-379c-4732-c121-764a70e76da3"
      },
      "outputs": [],
      "source": [
        "!venv/bin/python main.py --model_config_key bart_base --mode train"
      ]
    },
    {
      "cell_type": "markdown",
      "metadata": {
        "id": "PCgC4WZ62Jg_"
      },
      "source": [
        "### 3.2 **Evaluation encoder-decoder pre-trained**: facebook/bart-base"
      ]
    },
    {
      "cell_type": "code",
      "execution_count": null,
      "metadata": {
        "colab": {
          "base_uri": "https://localhost:8080/"
        },
        "id": "3x2ABypb2SwM",
        "outputId": "495c83c4-f657-4e06-f0c3-34c6b6e75085"
      },
      "outputs": [],
      "source": [
        "!venv/bin/python main.py --model_config_key bart_base --mode eval --eval_type pretrained --output_json_path \"results/evaluation/pretrained/bart-base-imdb.json\""
      ]
    },
    {
      "cell_type": "markdown",
      "metadata": {
        "id": "YWpKpVBG2aB_"
      },
      "source": [
        "### 3.2 **Evaluation encoder-decoder fine-tuned**: facebook/bart-base"
      ]
    },
    {
      "cell_type": "code",
      "execution_count": null,
      "metadata": {
        "colab": {
          "base_uri": "https://localhost:8080/"
        },
        "id": "0XdYl80n6JSq",
        "outputId": "0eda36b3-eec4-41fd-842d-da377bb333dc"
      },
      "outputs": [],
      "source": [
        "!venv/bin/python main.py --model_config_key bart_base --mode eval --eval_type fine_tuned --output_json_path \"results/evaluation/finetuned/bart-base-imdb.json\""
      ]
    },
    {
      "cell_type": "markdown",
      "metadata": {
        "id": "pQa_K-962iT1"
      },
      "source": [
        "### 3.3 **Train & Validation decoder-only**: EleutherAI/gpt-neo-2.7B"
      ]
    },
    {
      "cell_type": "code",
      "execution_count": null,
      "metadata": {
        "colab": {
          "base_uri": "https://localhost:8080/"
        },
        "id": "AKtiGH-m_9RW",
        "outputId": "52ff346e-93ac-48b9-f87f-d157f8943a3b"
      },
      "outputs": [],
      "source": [
        "!venv/bin/python main.py --model_config_key gpt_neo_2_7b --mode train"
      ]
    },
    {
      "cell_type": "markdown",
      "metadata": {
        "id": "Fd2oTrp73ad3"
      },
      "source": [
        "### 3.3 **Evaluation decoder-only pre-trained**: EleutherAI/gpt-neo-2.7B"
      ]
    },
    {
      "cell_type": "code",
      "execution_count": null,
      "metadata": {
        "colab": {
          "base_uri": "https://localhost:8080/"
        },
        "id": "LWr3w5Zf6Pjs",
        "outputId": "f9669d3d-74b6-49e4-cd4f-524f604f2f28"
      },
      "outputs": [],
      "source": [
        "!venv/bin/python main.py --model_config_key gpt_neo_2_7b --mode eval --eval_type pretrained --output_json_path \"results/evaluation/pretrained/gpt-neo-2.7b-imdb.json\""
      ]
    },
    {
      "cell_type": "markdown",
      "metadata": {
        "id": "M0mrDgNT3jmD"
      },
      "source": [
        "### 3.3 **Evaluation decoder-only fine-tuned**: EleutherAI/gpt-neo-2.7B"
      ]
    },
    {
      "cell_type": "code",
      "execution_count": null,
      "metadata": {
        "colab": {
          "base_uri": "https://localhost:8080/"
        },
        "id": "5u8iVrhS6hYS",
        "outputId": "39548ae4-463f-49ba-a94e-c7545b9d13b5"
      },
      "outputs": [],
      "source": [
        "!venv/bin/python main.py --model_config_key gpt_neo_2_7b --mode eval --eval_type fine_tuned --output_json_path \"results/evaluation/finetuned/gpt-neo-2.7b-imdb.json\""
      ]
    },
    {
      "cell_type": "markdown",
      "metadata": {
        "id": "uI4FJi0D4be_"
      },
      "source": [
        "## 4. **UPLOADING ALL MODELS ON HUGGINGFACE REPOSITORY**"
      ]
    },
    {
      "cell_type": "code",
      "execution_count": null,
      "metadata": {
        "colab": {
          "base_uri": "https://localhost:8080/"
        },
        "id": "-HqQci6tlD4L",
        "outputId": "c879ca13-a0a3-4aca-d655-2c583365f25a"
      },
      "outputs": [],
      "source": [
        "!venv/bin/python src/upload_models.py --only bert-base-uncased-imdb"
      ]
    },
    {
      "cell_type": "code",
      "execution_count": null,
      "metadata": {},
      "outputs": [],
      "source": [
        "!venv/bin/python src/upload_models.py --only bart-base-imdb"
      ]
    },
    {
      "cell_type": "code",
      "execution_count": null,
      "metadata": {},
      "outputs": [],
      "source": [
        "!venv/bin/python src/upload_models.py --only gpt-neo-2.7B-imdb"
      ]
    },
    {
      "cell_type": "code",
      "execution_count": null,
      "metadata": {
        "id": "wjyuK0n1TSQe"
      },
      "outputs": [],
      "source": [
        "!venv/bin/python aggregate_results.py \\\n",
        "  --input_dir results \\\n",
        "  --output_file results_aggregati.json"
      ]
    },
    {
      "cell_type": "code",
      "execution_count": null,
      "metadata": {
        "colab": {
          "base_uri": "https://localhost:8080/"
        },
        "id": "lJDBOZnk-Zi8",
        "outputId": "19c58918-700d-44fd-a11d-8beecac4e04c"
      },
      "outputs": [],
      "source": [
        "!venv/bin/python plot_results.py --results_file \"results/aggregate_results.json\" --output_dir \"plots\""
      ]
    },
    {
      "cell_type": "code",
      "execution_count": null,
      "metadata": {
        "id": "FT9WxoJ5NMkh"
      },
      "outputs": [],
      "source": [
        "!venv/bin/python ensemble_analysis.py --ensemble_file results/ensemble/majority-voting-imdb.json --output_dir plots"
      ]
    }
  ],
  "metadata": {
    "accelerator": "GPU",
    "colab": {
      "collapsed_sections": [
        "tgWJHMN249ST"
      ],
      "gpuType": "A100",
      "machine_shape": "hm",
      "provenance": []
    },
    "kernelspec": {
      "display_name": "Python 3",
      "name": "python3"
    },
    "language_info": {
      "name": "python"
    },
    "widgets": {
      "application/vnd.jupyter.widget-state+json": {
        "0bfab857f2d848c68829c93b1d9848bf": {
          "model_module": "@jupyter-widgets/controls",
          "model_module_version": "1.5.0",
          "model_name": "CheckboxModel",
          "state": {
            "_dom_classes": [],
            "_model_module": "@jupyter-widgets/controls",
            "_model_module_version": "1.5.0",
            "_model_name": "CheckboxModel",
            "_view_count": null,
            "_view_module": "@jupyter-widgets/controls",
            "_view_module_version": "1.5.0",
            "_view_name": "CheckboxView",
            "description": "Add token as git credential?",
            "description_tooltip": null,
            "disabled": false,
            "indent": true,
            "layout": "IPY_MODEL_3a91c1c825b84cbc800cac7f3dc68ce1",
            "style": "IPY_MODEL_6f711c1b111842c2a23caea512df0738",
            "value": true
          }
        },
        "11db7eb028c0421abbf24d03fd6b064c": {
          "model_module": "@jupyter-widgets/controls",
          "model_module_version": "1.5.0",
          "model_name": "DescriptionStyleModel",
          "state": {
            "_model_module": "@jupyter-widgets/controls",
            "_model_module_version": "1.5.0",
            "_model_name": "DescriptionStyleModel",
            "_view_count": null,
            "_view_module": "@jupyter-widgets/base",
            "_view_module_version": "1.2.0",
            "_view_name": "StyleView",
            "description_width": ""
          }
        },
        "2758d76e240b45f2a21e45186ebba5f2": {
          "model_module": "@jupyter-widgets/base",
          "model_module_version": "1.2.0",
          "model_name": "LayoutModel",
          "state": {
            "_model_module": "@jupyter-widgets/base",
            "_model_module_version": "1.2.0",
            "_model_name": "LayoutModel",
            "_view_count": null,
            "_view_module": "@jupyter-widgets/base",
            "_view_module_version": "1.2.0",
            "_view_name": "LayoutView",
            "align_content": null,
            "align_items": null,
            "align_self": null,
            "border": null,
            "bottom": null,
            "display": null,
            "flex": null,
            "flex_flow": null,
            "grid_area": null,
            "grid_auto_columns": null,
            "grid_auto_flow": null,
            "grid_auto_rows": null,
            "grid_column": null,
            "grid_gap": null,
            "grid_row": null,
            "grid_template_areas": null,
            "grid_template_columns": null,
            "grid_template_rows": null,
            "height": null,
            "justify_content": null,
            "justify_items": null,
            "left": null,
            "margin": null,
            "max_height": null,
            "max_width": null,
            "min_height": null,
            "min_width": null,
            "object_fit": null,
            "object_position": null,
            "order": null,
            "overflow": null,
            "overflow_x": null,
            "overflow_y": null,
            "padding": null,
            "right": null,
            "top": null,
            "visibility": null,
            "width": null
          }
        },
        "2f4cd9d5920946448d22e0a0b4b2cb68": {
          "model_module": "@jupyter-widgets/base",
          "model_module_version": "1.2.0",
          "model_name": "LayoutModel",
          "state": {
            "_model_module": "@jupyter-widgets/base",
            "_model_module_version": "1.2.0",
            "_model_name": "LayoutModel",
            "_view_count": null,
            "_view_module": "@jupyter-widgets/base",
            "_view_module_version": "1.2.0",
            "_view_name": "LayoutView",
            "align_content": null,
            "align_items": null,
            "align_self": null,
            "border": null,
            "bottom": null,
            "display": null,
            "flex": null,
            "flex_flow": null,
            "grid_area": null,
            "grid_auto_columns": null,
            "grid_auto_flow": null,
            "grid_auto_rows": null,
            "grid_column": null,
            "grid_gap": null,
            "grid_row": null,
            "grid_template_areas": null,
            "grid_template_columns": null,
            "grid_template_rows": null,
            "height": null,
            "justify_content": null,
            "justify_items": null,
            "left": null,
            "margin": null,
            "max_height": null,
            "max_width": null,
            "min_height": null,
            "min_width": null,
            "object_fit": null,
            "object_position": null,
            "order": null,
            "overflow": null,
            "overflow_x": null,
            "overflow_y": null,
            "padding": null,
            "right": null,
            "top": null,
            "visibility": null,
            "width": null
          }
        },
        "3a91c1c825b84cbc800cac7f3dc68ce1": {
          "model_module": "@jupyter-widgets/base",
          "model_module_version": "1.2.0",
          "model_name": "LayoutModel",
          "state": {
            "_model_module": "@jupyter-widgets/base",
            "_model_module_version": "1.2.0",
            "_model_name": "LayoutModel",
            "_view_count": null,
            "_view_module": "@jupyter-widgets/base",
            "_view_module_version": "1.2.0",
            "_view_name": "LayoutView",
            "align_content": null,
            "align_items": null,
            "align_self": null,
            "border": null,
            "bottom": null,
            "display": null,
            "flex": null,
            "flex_flow": null,
            "grid_area": null,
            "grid_auto_columns": null,
            "grid_auto_flow": null,
            "grid_auto_rows": null,
            "grid_column": null,
            "grid_gap": null,
            "grid_row": null,
            "grid_template_areas": null,
            "grid_template_columns": null,
            "grid_template_rows": null,
            "height": null,
            "justify_content": null,
            "justify_items": null,
            "left": null,
            "margin": null,
            "max_height": null,
            "max_width": null,
            "min_height": null,
            "min_width": null,
            "object_fit": null,
            "object_position": null,
            "order": null,
            "overflow": null,
            "overflow_x": null,
            "overflow_y": null,
            "padding": null,
            "right": null,
            "top": null,
            "visibility": null,
            "width": null
          }
        },
        "43f884b1d57b4905a1ab9507761391ba": {
          "model_module": "@jupyter-widgets/controls",
          "model_module_version": "1.5.0",
          "model_name": "DescriptionStyleModel",
          "state": {
            "_model_module": "@jupyter-widgets/controls",
            "_model_module_version": "1.5.0",
            "_model_name": "DescriptionStyleModel",
            "_view_count": null,
            "_view_module": "@jupyter-widgets/base",
            "_view_module_version": "1.2.0",
            "_view_name": "StyleView",
            "description_width": ""
          }
        },
        "486570958be54bffbbd4c78b7af876b8": {
          "model_module": "@jupyter-widgets/controls",
          "model_module_version": "1.5.0",
          "model_name": "VBoxModel",
          "state": {
            "_dom_classes": [],
            "_model_module": "@jupyter-widgets/controls",
            "_model_module_version": "1.5.0",
            "_model_name": "VBoxModel",
            "_view_count": null,
            "_view_module": "@jupyter-widgets/controls",
            "_view_module_version": "1.5.0",
            "_view_name": "VBoxView",
            "box_style": "",
            "children": [],
            "layout": "IPY_MODEL_59220456973f4921ad674326033ccacd"
          }
        },
        "583b175b871f4d57a65abb6d768efdcb": {
          "model_module": "@jupyter-widgets/controls",
          "model_module_version": "1.5.0",
          "model_name": "ButtonModel",
          "state": {
            "_dom_classes": [],
            "_model_module": "@jupyter-widgets/controls",
            "_model_module_version": "1.5.0",
            "_model_name": "ButtonModel",
            "_view_count": null,
            "_view_module": "@jupyter-widgets/controls",
            "_view_module_version": "1.5.0",
            "_view_name": "ButtonView",
            "button_style": "",
            "description": "Login",
            "disabled": false,
            "icon": "",
            "layout": "IPY_MODEL_2758d76e240b45f2a21e45186ebba5f2",
            "style": "IPY_MODEL_68cd9951e169457489b6b25bcf99de49",
            "tooltip": ""
          }
        },
        "59220456973f4921ad674326033ccacd": {
          "model_module": "@jupyter-widgets/base",
          "model_module_version": "1.2.0",
          "model_name": "LayoutModel",
          "state": {
            "_model_module": "@jupyter-widgets/base",
            "_model_module_version": "1.2.0",
            "_model_name": "LayoutModel",
            "_view_count": null,
            "_view_module": "@jupyter-widgets/base",
            "_view_module_version": "1.2.0",
            "_view_name": "LayoutView",
            "align_content": null,
            "align_items": "center",
            "align_self": null,
            "border": null,
            "bottom": null,
            "display": "flex",
            "flex": null,
            "flex_flow": "column",
            "grid_area": null,
            "grid_auto_columns": null,
            "grid_auto_flow": null,
            "grid_auto_rows": null,
            "grid_column": null,
            "grid_gap": null,
            "grid_row": null,
            "grid_template_areas": null,
            "grid_template_columns": null,
            "grid_template_rows": null,
            "height": null,
            "justify_content": null,
            "justify_items": null,
            "left": null,
            "margin": null,
            "max_height": null,
            "max_width": null,
            "min_height": null,
            "min_width": null,
            "object_fit": null,
            "object_position": null,
            "order": null,
            "overflow": null,
            "overflow_x": null,
            "overflow_y": null,
            "padding": null,
            "right": null,
            "top": null,
            "visibility": null,
            "width": "50%"
          }
        },
        "68cd9951e169457489b6b25bcf99de49": {
          "model_module": "@jupyter-widgets/controls",
          "model_module_version": "1.5.0",
          "model_name": "ButtonStyleModel",
          "state": {
            "_model_module": "@jupyter-widgets/controls",
            "_model_module_version": "1.5.0",
            "_model_name": "ButtonStyleModel",
            "_view_count": null,
            "_view_module": "@jupyter-widgets/base",
            "_view_module_version": "1.2.0",
            "_view_name": "StyleView",
            "button_color": null,
            "font_weight": ""
          }
        },
        "6d043ef893114fb9a490759f3e5747df": {
          "model_module": "@jupyter-widgets/controls",
          "model_module_version": "1.5.0",
          "model_name": "PasswordModel",
          "state": {
            "_dom_classes": [],
            "_model_module": "@jupyter-widgets/controls",
            "_model_module_version": "1.5.0",
            "_model_name": "PasswordModel",
            "_view_count": null,
            "_view_module": "@jupyter-widgets/controls",
            "_view_module_version": "1.5.0",
            "_view_name": "PasswordView",
            "continuous_update": true,
            "description": "Token:",
            "description_tooltip": null,
            "disabled": false,
            "layout": "IPY_MODEL_72301ed6b97f42ed8db78b431f77757b",
            "placeholder": "​",
            "style": "IPY_MODEL_a27ab2715a1349fa9e8e8cc197425f22",
            "value": ""
          }
        },
        "6f711c1b111842c2a23caea512df0738": {
          "model_module": "@jupyter-widgets/controls",
          "model_module_version": "1.5.0",
          "model_name": "DescriptionStyleModel",
          "state": {
            "_model_module": "@jupyter-widgets/controls",
            "_model_module_version": "1.5.0",
            "_model_name": "DescriptionStyleModel",
            "_view_count": null,
            "_view_module": "@jupyter-widgets/base",
            "_view_module_version": "1.2.0",
            "_view_name": "StyleView",
            "description_width": ""
          }
        },
        "72301ed6b97f42ed8db78b431f77757b": {
          "model_module": "@jupyter-widgets/base",
          "model_module_version": "1.2.0",
          "model_name": "LayoutModel",
          "state": {
            "_model_module": "@jupyter-widgets/base",
            "_model_module_version": "1.2.0",
            "_model_name": "LayoutModel",
            "_view_count": null,
            "_view_module": "@jupyter-widgets/base",
            "_view_module_version": "1.2.0",
            "_view_name": "LayoutView",
            "align_content": null,
            "align_items": null,
            "align_self": null,
            "border": null,
            "bottom": null,
            "display": null,
            "flex": null,
            "flex_flow": null,
            "grid_area": null,
            "grid_auto_columns": null,
            "grid_auto_flow": null,
            "grid_auto_rows": null,
            "grid_column": null,
            "grid_gap": null,
            "grid_row": null,
            "grid_template_areas": null,
            "grid_template_columns": null,
            "grid_template_rows": null,
            "height": null,
            "justify_content": null,
            "justify_items": null,
            "left": null,
            "margin": null,
            "max_height": null,
            "max_width": null,
            "min_height": null,
            "min_width": null,
            "object_fit": null,
            "object_position": null,
            "order": null,
            "overflow": null,
            "overflow_x": null,
            "overflow_y": null,
            "padding": null,
            "right": null,
            "top": null,
            "visibility": null,
            "width": null
          }
        },
        "7be167703cd14338ab90898b7363893e": {
          "model_module": "@jupyter-widgets/base",
          "model_module_version": "1.2.0",
          "model_name": "LayoutModel",
          "state": {
            "_model_module": "@jupyter-widgets/base",
            "_model_module_version": "1.2.0",
            "_model_name": "LayoutModel",
            "_view_count": null,
            "_view_module": "@jupyter-widgets/base",
            "_view_module_version": "1.2.0",
            "_view_name": "LayoutView",
            "align_content": null,
            "align_items": null,
            "align_self": null,
            "border": null,
            "bottom": null,
            "display": null,
            "flex": null,
            "flex_flow": null,
            "grid_area": null,
            "grid_auto_columns": null,
            "grid_auto_flow": null,
            "grid_auto_rows": null,
            "grid_column": null,
            "grid_gap": null,
            "grid_row": null,
            "grid_template_areas": null,
            "grid_template_columns": null,
            "grid_template_rows": null,
            "height": null,
            "justify_content": null,
            "justify_items": null,
            "left": null,
            "margin": null,
            "max_height": null,
            "max_width": null,
            "min_height": null,
            "min_width": null,
            "object_fit": null,
            "object_position": null,
            "order": null,
            "overflow": null,
            "overflow_x": null,
            "overflow_y": null,
            "padding": null,
            "right": null,
            "top": null,
            "visibility": null,
            "width": null
          }
        },
        "7fe779a4eea341c88d8d03123b683f9c": {
          "model_module": "@jupyter-widgets/base",
          "model_module_version": "1.2.0",
          "model_name": "LayoutModel",
          "state": {
            "_model_module": "@jupyter-widgets/base",
            "_model_module_version": "1.2.0",
            "_model_name": "LayoutModel",
            "_view_count": null,
            "_view_module": "@jupyter-widgets/base",
            "_view_module_version": "1.2.0",
            "_view_name": "LayoutView",
            "align_content": null,
            "align_items": null,
            "align_self": null,
            "border": null,
            "bottom": null,
            "display": null,
            "flex": null,
            "flex_flow": null,
            "grid_area": null,
            "grid_auto_columns": null,
            "grid_auto_flow": null,
            "grid_auto_rows": null,
            "grid_column": null,
            "grid_gap": null,
            "grid_row": null,
            "grid_template_areas": null,
            "grid_template_columns": null,
            "grid_template_rows": null,
            "height": null,
            "justify_content": null,
            "justify_items": null,
            "left": null,
            "margin": null,
            "max_height": null,
            "max_width": null,
            "min_height": null,
            "min_width": null,
            "object_fit": null,
            "object_position": null,
            "order": null,
            "overflow": null,
            "overflow_x": null,
            "overflow_y": null,
            "padding": null,
            "right": null,
            "top": null,
            "visibility": null,
            "width": null
          }
        },
        "a27ab2715a1349fa9e8e8cc197425f22": {
          "model_module": "@jupyter-widgets/controls",
          "model_module_version": "1.5.0",
          "model_name": "DescriptionStyleModel",
          "state": {
            "_model_module": "@jupyter-widgets/controls",
            "_model_module_version": "1.5.0",
            "_model_name": "DescriptionStyleModel",
            "_view_count": null,
            "_view_module": "@jupyter-widgets/base",
            "_view_module_version": "1.2.0",
            "_view_name": "StyleView",
            "description_width": ""
          }
        },
        "a866c168021242c38b2179d6479f43f7": {
          "model_module": "@jupyter-widgets/controls",
          "model_module_version": "1.5.0",
          "model_name": "HTMLModel",
          "state": {
            "_dom_classes": [],
            "_model_module": "@jupyter-widgets/controls",
            "_model_module_version": "1.5.0",
            "_model_name": "HTMLModel",
            "_view_count": null,
            "_view_module": "@jupyter-widgets/controls",
            "_view_module_version": "1.5.0",
            "_view_name": "HTMLView",
            "description": "",
            "description_tooltip": null,
            "layout": "IPY_MODEL_2f4cd9d5920946448d22e0a0b4b2cb68",
            "placeholder": "​",
            "style": "IPY_MODEL_adaf34cf19f44622a0ad2f830b83f481",
            "value": "<center> <img\nsrc=https://huggingface.co/front/assets/huggingface_logo-noborder.svg\nalt='Hugging Face'> <br> Copy a token from <a\nhref=\"https://huggingface.co/settings/tokens\" target=\"_blank\">your Hugging Face\ntokens page</a> and paste it below. <br> Immediately click login after copying\nyour token or it might be stored in plain text in this notebook file. </center>"
          }
        },
        "a8d34e608a7f4fce9a48a3ebbbd54bcc": {
          "model_module": "@jupyter-widgets/controls",
          "model_module_version": "1.5.0",
          "model_name": "HTMLModel",
          "state": {
            "_dom_classes": [],
            "_model_module": "@jupyter-widgets/controls",
            "_model_module_version": "1.5.0",
            "_model_name": "HTMLModel",
            "_view_count": null,
            "_view_module": "@jupyter-widgets/controls",
            "_view_module_version": "1.5.0",
            "_view_name": "HTMLView",
            "description": "",
            "description_tooltip": null,
            "layout": "IPY_MODEL_7be167703cd14338ab90898b7363893e",
            "placeholder": "​",
            "style": "IPY_MODEL_11db7eb028c0421abbf24d03fd6b064c",
            "value": "\n<b>Pro Tip:</b> If you don't already have one, you can create a dedicated\n'notebooks' token with 'write' access, that you can then easily reuse for all\nnotebooks. </center>"
          }
        },
        "adaf34cf19f44622a0ad2f830b83f481": {
          "model_module": "@jupyter-widgets/controls",
          "model_module_version": "1.5.0",
          "model_name": "DescriptionStyleModel",
          "state": {
            "_model_module": "@jupyter-widgets/controls",
            "_model_module_version": "1.5.0",
            "_model_name": "DescriptionStyleModel",
            "_view_count": null,
            "_view_module": "@jupyter-widgets/base",
            "_view_module_version": "1.2.0",
            "_view_name": "StyleView",
            "description_width": ""
          }
        },
        "e1f6cfe894fe4002948b616b05ffec3a": {
          "model_module": "@jupyter-widgets/controls",
          "model_module_version": "1.5.0",
          "model_name": "LabelModel",
          "state": {
            "_dom_classes": [],
            "_model_module": "@jupyter-widgets/controls",
            "_model_module_version": "1.5.0",
            "_model_name": "LabelModel",
            "_view_count": null,
            "_view_module": "@jupyter-widgets/controls",
            "_view_module_version": "1.5.0",
            "_view_name": "LabelView",
            "description": "",
            "description_tooltip": null,
            "layout": "IPY_MODEL_7fe779a4eea341c88d8d03123b683f9c",
            "placeholder": "​",
            "style": "IPY_MODEL_43f884b1d57b4905a1ab9507761391ba",
            "value": "Connecting..."
          }
        }
      }
    }
  },
  "nbformat": 4,
  "nbformat_minor": 0
}
